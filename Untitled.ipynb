{
 "cells": [
  {
   "cell_type": "code",
   "execution_count": 1,
   "id": "8a1c39cb-1a00-4448-85a3-89cfde614134",
   "metadata": {},
   "outputs": [],
   "source": [
    "import numpy as np\n",
    "import pandas as pd\n",
    "import seaborn as sns\n",
    "import matplotlib.pyplot as plt\n",
    "import matplotlib.image as mpimg\n",
    "import cv2\n",
    "import os"
   ]
  },
  {
   "cell_type": "code",
   "execution_count": 2,
   "id": "aed960c9-f725-40ca-b749-e9f2dab27f6b",
   "metadata": {},
   "outputs": [
    {
     "name": "stdout",
     "output_type": "stream",
     "text": [
      "(500, 140, 140, 1)\n"
     ]
    }
   ],
   "source": [
    "X_train_butterfiles = []\n",
    "y_train_butterfiles = []\n",
    "\n",
    "for i in os.listdir('train_dataset/datasets/Animals/butterfiles/'):\n",
    "    try:\n",
    "        image = cv2.imread(f'train_dataset/datasets/Animals/butterfiles/{i}', cv2.IMREAD_GRAYSCALE)\n",
    "        image = cv2.resize(image, (140, 140))\n",
    "        image = image.reshape(140, 140, 1)\n",
    "        image = image / 255.0\n",
    "        X_train_butterfiles.append(image)\n",
    "        y_train_butterfiles.append(0)\n",
    "    except Exception as e:\n",
    "        print(f\"Error with file {i}: {e}\")\n",
    "        continue\n",
    "\n",
    "X_train_butterfiles = np.array(X_train_butterfiles)\n",
    "y_train_butterfiles = np.array(y_train_butterfiles)\n",
    "print(X_train_butterfiles.shape)"
   ]
  },
  {
   "cell_type": "code",
   "execution_count": 3,
   "id": "f2bd1966-7bad-4cda-97f4-e13ae8b31715",
   "metadata": {},
   "outputs": [
    {
     "name": "stdout",
     "output_type": "stream",
     "text": [
      "(501, 140, 140, 1)\n",
      "(501,)\n"
     ]
    }
   ],
   "source": [
    "X_train_cat = []\n",
    "y_train_cat = []\n",
    "\n",
    "for i in os.listdir('train_dataset/datasets/Animals/cats/'):\n",
    "    try:\n",
    "        image = cv2.imread(f'train_dataset/datasets/Animals/cats/{i}', cv2.IMREAD_GRAYSCALE)\n",
    "        image = cv2.resize(image, (140, 140))\n",
    "        image = image.reshape(140, 140, 1)\n",
    "        image = image / 255.0\n",
    "        X_train_cat.append(image)\n",
    "        y_train_cat.append(1)\n",
    "    except Exception as e:\n",
    "        print(f\"Error with file {i}: {e}\")\n",
    "        continue\n",
    "\n",
    "X_train_cat = np.array(X_train_cat)\n",
    "y_train_cat = np.array(y_train_cat)\n",
    "print(X_train_cat.shape)\n",
    "print(y_train_cat.shape)"
   ]
  },
  {
   "cell_type": "code",
   "execution_count": 4,
   "id": "149e9fee-43cc-4b79-bfba-1a4817a630e7",
   "metadata": {},
   "outputs": [
    {
     "name": "stdout",
     "output_type": "stream",
     "text": [
      "(500, 140, 140, 1)\n",
      "(500,)\n"
     ]
    }
   ],
   "source": [
    "X_train_chickens = []\n",
    "y_train_chickens = []\n",
    "\n",
    "for i in os.listdir('train_dataset/datasets/Animals/chickens/'):\n",
    "    try:\n",
    "        image = cv2.imread(f'train_dataset/datasets/Animals/chickens/{i}', cv2.IMREAD_GRAYSCALE)\n",
    "        image = cv2.resize(image, (140, 140))\n",
    "        image = image.reshape(140, 140, 1)\n",
    "        image = image / 255.0\n",
    "        X_train_chickens.append(image)\n",
    "        y_train_chickens.append(2)\n",
    "    except Exception as e:\n",
    "        print(f\"Error with file {i}: {e}\")\n",
    "        continue\n",
    "\n",
    "X_train_chickens = np.array(X_train_chickens)\n",
    "y_train_chickens = np.array(y_train_chickens)\n",
    "print(X_train_chickens.shape)\n",
    "print(y_train_chickens.shape)"
   ]
  },
  {
   "cell_type": "code",
   "execution_count": 5,
   "id": "11314e44-f8d8-4395-8f47-db74a96fccb0",
   "metadata": {},
   "outputs": [
    {
     "name": "stdout",
     "output_type": "stream",
     "text": [
      "(500, 140, 140, 1)\n",
      "(500,)\n"
     ]
    }
   ],
   "source": [
    "X_train_cows = []\n",
    "y_train_cows = []\n",
    "\n",
    "for i in os.listdir('train_dataset/datasets/Animals/cows/'):\n",
    "    try:\n",
    "        image = cv2.imread(f'train_dataset/datasets/Animals/cows/{i}', cv2.IMREAD_GRAYSCALE)\n",
    "        image = cv2.resize(image, (140, 140))\n",
    "        image = image.reshape(140, 140, 1)\n",
    "        image = image / 255.0\n",
    "        X_train_cows.append(image)\n",
    "        y_train_cows.append(3)\n",
    "    except Exception as e:\n",
    "        print(f\"Error with file {i}: {e}\")\n",
    "        continue\n",
    "\n",
    "X_train_cows = np.array(X_train_cows)\n",
    "y_train_cows = np.array(y_train_cows)\n",
    "print(X_train_cows.shape)\n",
    "print(y_train_cows.shape)"
   ]
  },
  {
   "cell_type": "code",
   "execution_count": 6,
   "id": "f69b9e68-1638-473f-a0c3-206c6b3e9018",
   "metadata": {},
   "outputs": [
    {
     "name": "stdout",
     "output_type": "stream",
     "text": [
      "(501, 140, 140, 1)\n",
      "(501,)\n"
     ]
    }
   ],
   "source": [
    "X_train_dogs = []\n",
    "y_train_dogs = []\n",
    "\n",
    "for i in os.listdir('train_dataset/datasets/Animals/dogs/'):\n",
    "    try:\n",
    "        image = cv2.imread(f'train_dataset/datasets/Animals/dogs/{i}', cv2.IMREAD_GRAYSCALE)\n",
    "        image = cv2.resize(image, (140, 140))\n",
    "        image = image.reshape(140, 140, 1)\n",
    "        image = image / 255.0\n",
    "        X_train_dogs.append(image)\n",
    "        y_train_dogs.append(4)\n",
    "    except Exception as e:\n",
    "        print(f\"Error with file {i}: {e}\")\n",
    "        continue\n",
    "\n",
    "X_train_dogs = np.array(X_train_dogs)\n",
    "y_train_dogs = np.array(y_train_dogs)\n",
    "print(X_train_dogs.shape)\n",
    "print(y_train_dogs.shape)"
   ]
  },
  {
   "cell_type": "code",
   "execution_count": 7,
   "id": "6f7ad2f3-bfc6-43c4-a1ba-d92cb267144f",
   "metadata": {},
   "outputs": [
    {
     "name": "stdout",
     "output_type": "stream",
     "text": [
      "(500, 140, 140, 1)\n",
      "(500,)\n"
     ]
    }
   ],
   "source": [
    "X_train_elephants = []\n",
    "y_train_elephants = []\n",
    "\n",
    "for i in os.listdir('train_dataset/datasets/Animals/elephants/'):\n",
    "    try:\n",
    "        image = cv2.imread(f'train_dataset/datasets/Animals/elephants/{i}', cv2.IMREAD_GRAYSCALE)\n",
    "        image = cv2.resize(image, (140, 140))\n",
    "        image = image.reshape(140, 140, 1)\n",
    "        image = image / 255.0\n",
    "        X_train_elephants.append(image)\n",
    "        y_train_elephants.append(5)\n",
    "    except Exception as e:\n",
    "        print(f\"Error with file {i}: {e}\")\n",
    "        continue\n",
    "\n",
    "X_train_elephants = np.array(X_train_elephants)\n",
    "y_train_elephants = np.array(y_train_elephants)\n",
    "print(X_train_elephants.shape)\n",
    "print(y_train_elephants.shape)"
   ]
  },
  {
   "cell_type": "code",
   "execution_count": 8,
   "id": "ba1720ff-b97b-40c8-86f9-b9d78575e092",
   "metadata": {},
   "outputs": [
    {
     "name": "stdout",
     "output_type": "stream",
     "text": [
      "(500, 140, 140, 1)\n",
      "(500,)\n"
     ]
    }
   ],
   "source": [
    "X_train_fishes = []\n",
    "y_train_fishes = []\n",
    "\n",
    "for i in os.listdir('train_dataset/datasets/Animals/fishes/'):\n",
    "    try:\n",
    "        image = cv2.imread(f'train_dataset/datasets/Animals/fishes/{i}', cv2.IMREAD_GRAYSCALE)\n",
    "        image = cv2.resize(image, (140, 140))\n",
    "        image = image.reshape(140, 140, 1)\n",
    "        image = image / 255.0\n",
    "        X_train_fishes.append(image)\n",
    "        y_train_fishes.append(6)\n",
    "    except Exception as e:\n",
    "        print(f\"Error with file {i}: {e}\")\n",
    "        continue\n",
    "\n",
    "X_train_fishes = np.array(X_train_fishes)\n",
    "y_train_fishes = np.array(y_train_fishes)\n",
    "print(X_train_fishes.shape)\n",
    "print(y_train_fishes.shape)"
   ]
  },
  {
   "cell_type": "code",
   "execution_count": 9,
   "id": "004ab8fb-059d-45b8-9e43-bd1cdfb116ad",
   "metadata": {},
   "outputs": [
    {
     "name": "stdout",
     "output_type": "stream",
     "text": [
      "(500, 140, 140, 1)\n",
      "(500,)\n"
     ]
    }
   ],
   "source": [
    "X_train_horses = []\n",
    "y_train_horses = []\n",
    "\n",
    "for i in os.listdir('train_dataset/datasets/Animals/horses/'):\n",
    "    try:\n",
    "        image = cv2.imread(f'train_dataset/datasets/Animals/horses/{i}', cv2.IMREAD_GRAYSCALE)\n",
    "        image = cv2.resize(image, (140, 140))\n",
    "        image = image.reshape(140, 140, 1)\n",
    "        image = image / 255.0\n",
    "        X_train_horses.append(image)\n",
    "        y_train_horses.append(7)\n",
    "    except Exception as e:\n",
    "        print(f\"Error with file {i}: {e}\")\n",
    "        continue\n",
    "\n",
    "X_train_horses = np.array(X_train_horses)\n",
    "y_train_horses = np.array(y_train_horses)\n",
    "print(X_train_horses.shape)\n",
    "print(y_train_horses.shape)"
   ]
  },
  {
   "cell_type": "code",
   "execution_count": 10,
   "id": "2b7cbf55-60f1-4fac-8da4-4fce440b0fd9",
   "metadata": {},
   "outputs": [
    {
     "name": "stdout",
     "output_type": "stream",
     "text": [
      "(500, 140, 140, 1)\n",
      "(500,)\n"
     ]
    }
   ],
   "source": [
    "X_train_lions = []\n",
    "y_train_lions = []\n",
    "\n",
    "for i in os.listdir('train_dataset/datasets/Animals/lions/'):\n",
    "    try:\n",
    "        image = cv2.imread(f'train_dataset/datasets/Animals/lions/{i}', cv2.IMREAD_GRAYSCALE)\n",
    "        image = cv2.resize(image, (140, 140))\n",
    "        image = image.reshape(140, 140, 1)\n",
    "        image = image / 255.0\n",
    "        X_train_lions.append(image)\n",
    "        y_train_lions.append(8)\n",
    "    except Exception as e:\n",
    "        print(f\"Error with file {i}: {e}\")\n",
    "        continue\n",
    "\n",
    "X_train_lions = np.array(X_train_lions)\n",
    "y_train_lions = np.array(y_train_lions)\n",
    "print(X_train_lions.shape)\n",
    "print(y_train_lions.shape)"
   ]
  },
  {
   "cell_type": "code",
   "execution_count": 11,
   "id": "f6737c57-972a-4bad-9dd5-72bbcc033e9b",
   "metadata": {},
   "outputs": [
    {
     "name": "stdout",
     "output_type": "stream",
     "text": [
      "(500, 140, 140, 1)\n",
      "(500,)\n"
     ]
    }
   ],
   "source": [
    "X_train_spiders = []\n",
    "y_train_spiders = []\n",
    "\n",
    "for i in os.listdir('train_dataset/datasets/Animals/spiders/'):\n",
    "    try:\n",
    "        image = cv2.imread(f'train_dataset/datasets/Animals/spiders/{i}', cv2.IMREAD_GRAYSCALE)\n",
    "        image = cv2.resize(image, (140, 140))\n",
    "        image = image.reshape(140, 140, 1)\n",
    "        image = image / 255.0\n",
    "        X_train_spiders.append(image)\n",
    "        y_train_spiders.append(9)\n",
    "    except Exception as e:\n",
    "        print(f\"Error with file {i}: {e}\")\n",
    "        continue\n",
    "\n",
    "X_train_spiders = np.array(X_train_spiders)\n",
    "y_train_spiders = np.array(y_train_spiders)\n",
    "print(X_train_spiders.shape)\n",
    "print(y_train_spiders.shape)"
   ]
  },
  {
   "cell_type": "code",
   "execution_count": 12,
   "id": "855dfc90-c39e-4b02-9ad8-7cbd9270974c",
   "metadata": {},
   "outputs": [
    {
     "name": "stdout",
     "output_type": "stream",
     "text": [
      "(500, 140, 140, 1)\n",
      "(500,)\n"
     ]
    }
   ],
   "source": [
    "X_val_butterfiles = []\n",
    "y_val_butterfiles = []\n",
    "\n",
    "for i in os.listdir('guideline_code/guideline_code/datasets/Animals/butterfiles/'):\n",
    "    try:\n",
    "        image = cv2.imread(f'guideline_code/guideline_code/datasets/Animals/butterfiles/{i}', cv2.IMREAD_GRAYSCALE)\n",
    "        image = cv2.resize(image, (140, 140))\n",
    "        image = image.reshape(140, 140, 1)\n",
    "        image = image / 255.0\n",
    "        X_val_butterfiles.append(image)\n",
    "        y_val_butterfiles.append(0)\n",
    "    except Exception as e:\n",
    "        print(f\"Error with file {i}: {e}\")\n",
    "        continue\n",
    "\n",
    "X_val_butterfiles = np.array(X_val_butterfiles)\n",
    "y_val_butterfiles = np.array(y_val_butterfiles)\n",
    "print(X_val_butterfiles.shape)\n",
    "print(y_val_butterfiles.shape)"
   ]
  },
  {
   "cell_type": "code",
   "execution_count": 13,
   "id": "99e5deb6-c1b1-4bb3-b39a-97a2177ff7fb",
   "metadata": {},
   "outputs": [
    {
     "name": "stdout",
     "output_type": "stream",
     "text": [
      "(501, 140, 140, 1)\n",
      "(501,)\n"
     ]
    }
   ],
   "source": [
    "X_val_cat = []\n",
    "y_val_cat = []\n",
    "\n",
    "for i in os.listdir('guideline_code/guideline_code/datasets/Animals/cats/'):\n",
    "    try:\n",
    "        image = cv2.imread(f'guideline_code/guideline_code/datasets/Animals/cats/{i}', cv2.IMREAD_GRAYSCALE)\n",
    "        image = cv2.resize(image, (140, 140))\n",
    "        image = image.reshape(140, 140, 1)\n",
    "        image = image / 255.0\n",
    "        X_val_cat.append(image)\n",
    "        y_val_cat.append(1)\n",
    "    except Exception as e:\n",
    "        print(f\"Error with file {i}: {e}\")\n",
    "        continue\n",
    "\n",
    "X_val_cat = np.array(X_val_cat)\n",
    "y_val_cat = np.array(y_val_cat)\n",
    "print(X_val_cat.shape)\n",
    "print(y_val_cat.shape)"
   ]
  },
  {
   "cell_type": "code",
   "execution_count": 14,
   "id": "6e90f7d6-363a-4a79-ae76-60b511bc8dca",
   "metadata": {},
   "outputs": [
    {
     "name": "stdout",
     "output_type": "stream",
     "text": [
      "(500, 140, 140, 1)\n",
      "(500,)\n"
     ]
    }
   ],
   "source": [
    "X_val_chickens = []\n",
    "y_val_chickens = []\n",
    "\n",
    "for i in os.listdir('guideline_code/guideline_code/datasets/Animals/chickens/'):\n",
    "    try:\n",
    "        image = cv2.imread(f'guideline_code/guideline_code/datasets/Animals/chickens/{i}', cv2.IMREAD_GRAYSCALE)\n",
    "        image = cv2.resize(image, (140, 140))\n",
    "        image = image.reshape(140, 140, 1)\n",
    "        image = image / 255.0\n",
    "        X_val_chickens.append(image)\n",
    "        y_val_chickens.append(2)\n",
    "    except Exception as e:\n",
    "        print(f\"Error with file {i}: {e}\")\n",
    "        continue\n",
    "\n",
    "X_val_chickens = np.array(X_val_chickens)\n",
    "y_val_chickens = np.array(y_val_chickens)\n",
    "print(X_val_chickens.shape)\n",
    "print(y_val_chickens.shape)"
   ]
  },
  {
   "cell_type": "code",
   "execution_count": 15,
   "id": "9eccc7ab-622c-4084-98f9-97136953706e",
   "metadata": {},
   "outputs": [
    {
     "name": "stdout",
     "output_type": "stream",
     "text": [
      "(500, 140, 140, 1)\n",
      "(500,)\n"
     ]
    }
   ],
   "source": [
    "X_val_cows = []\n",
    "y_val_cows = []\n",
    "\n",
    "for i in os.listdir('guideline_code/guideline_code/datasets/Animals/cows/'):\n",
    "    try:\n",
    "        image = cv2.imread(f'guideline_code/guideline_code/datasets/Animals/cows/{i}', cv2.IMREAD_GRAYSCALE)\n",
    "        image = cv2.resize(image, (140, 140))\n",
    "        image = image.reshape(140, 140, 1)\n",
    "        image = image / 255.0\n",
    "        X_val_cows.append(image)\n",
    "        y_val_cows.append(3)\n",
    "    except Exception as e:\n",
    "        print(f\"Error with file {i}: {e}\")\n",
    "        continue\n",
    "\n",
    "X_val_cows = np.array(X_val_cows)\n",
    "y_val_cows = np.array(y_val_cows)\n",
    "print(X_val_cows.shape)\n",
    "print(y_val_cows.shape)"
   ]
  },
  {
   "cell_type": "code",
   "execution_count": 16,
   "id": "ab1f685f-c0ae-4180-8c07-ef035da1d53e",
   "metadata": {},
   "outputs": [
    {
     "name": "stdout",
     "output_type": "stream",
     "text": [
      "(501, 140, 140, 1)\n",
      "(501,)\n"
     ]
    }
   ],
   "source": [
    "X_val_dogs = []\n",
    "y_val_dogs = []\n",
    "\n",
    "for i in os.listdir('guideline_code/guideline_code/datasets/Animals/dogs/'):\n",
    "    try:\n",
    "        image = cv2.imread(f'guideline_code/guideline_code/datasets/Animals/dogs/{i}', cv2.IMREAD_GRAYSCALE)\n",
    "        image = cv2.resize(image, (140, 140))\n",
    "        image = image.reshape(140, 140, 1)\n",
    "        image = image / 255.0\n",
    "        X_val_dogs.append(image)\n",
    "        y_val_dogs.append(4)\n",
    "    except Exception as e:\n",
    "        print(f\"Error with file {i}: {e}\")\n",
    "        continue\n",
    "\n",
    "X_val_dogs = np.array(X_val_dogs)\n",
    "y_val_dogs = np.array(y_val_dogs)\n",
    "print(X_val_dogs.shape)\n",
    "print(y_val_dogs.shape)"
   ]
  },
  {
   "cell_type": "code",
   "execution_count": 17,
   "id": "07b24306-e13d-4176-b3c0-03fe80810e26",
   "metadata": {},
   "outputs": [
    {
     "name": "stdout",
     "output_type": "stream",
     "text": [
      "(500, 140, 140, 1)\n",
      "(500,)\n"
     ]
    }
   ],
   "source": [
    "X_val_elephants = []\n",
    "y_val_elephants = []\n",
    "\n",
    "for i in os.listdir('guideline_code/guideline_code/datasets/Animals/elephants/'):\n",
    "    try:\n",
    "        image = cv2.imread(f'guideline_code/guideline_code/datasets/Animals/elephants/{i}', cv2.IMREAD_GRAYSCALE)\n",
    "        image = cv2.resize(image, (140, 140))\n",
    "        image = image.reshape(140, 140, 1)\n",
    "        image = image / 255.0\n",
    "        X_val_elephants.append(image)\n",
    "        y_val_elephants.append(5)\n",
    "    except Exception as e:\n",
    "        print(f\"Error with file {i}: {e}\")\n",
    "        continue\n",
    "\n",
    "X_val_elephants = np.array(X_val_elephants)\n",
    "y_val_elephants = np.array(y_val_elephants)\n",
    "print(X_val_elephants.shape)\n",
    "print(y_val_elephants.shape)"
   ]
  },
  {
   "cell_type": "code",
   "execution_count": 18,
   "id": "fa737f1c-aa98-4506-986c-a45ef0b347c4",
   "metadata": {},
   "outputs": [
    {
     "name": "stdout",
     "output_type": "stream",
     "text": [
      "(500, 140, 140, 1)\n",
      "(500,)\n"
     ]
    }
   ],
   "source": [
    "X_val_fishes = []\n",
    "y_val_fishes = []\n",
    "\n",
    "for i in os.listdir('guideline_code/guideline_code/datasets/Animals/fishes/'):\n",
    "    try:\n",
    "        image = cv2.imread(f'guideline_code/guideline_code/datasets/Animals/fishes/{i}', cv2.IMREAD_GRAYSCALE)\n",
    "        image = cv2.resize(image, (140, 140))\n",
    "        image = image.reshape(140, 140, 1)\n",
    "        image = image / 255.0\n",
    "        X_val_fishes.append(image)\n",
    "        y_val_fishes.append(6)\n",
    "    except Exception as e:\n",
    "        print(f\"Error with file {i}: {e}\")\n",
    "        continue\n",
    "\n",
    "X_val_fishes = np.array(X_val_fishes)\n",
    "y_val_fishes = np.array(y_val_fishes)\n",
    "print(X_val_fishes.shape)\n",
    "print(y_val_fishes.shape)"
   ]
  },
  {
   "cell_type": "code",
   "execution_count": 19,
   "id": "804b9bf8-ced1-42e7-8501-a91408842b4e",
   "metadata": {},
   "outputs": [
    {
     "name": "stdout",
     "output_type": "stream",
     "text": [
      "(500, 140, 140, 1)\n",
      "(500,)\n"
     ]
    }
   ],
   "source": [
    "X_val_horses = []\n",
    "y_val_horses = []\n",
    "\n",
    "for i in os.listdir('guideline_code/guideline_code/datasets/Animals/horses/'):\n",
    "    try:\n",
    "        image = cv2.imread(f'guideline_code/guideline_code/datasets/Animals/horses/{i}', cv2.IMREAD_GRAYSCALE)\n",
    "        image = cv2.resize(image, (140, 140))\n",
    "        image = image.reshape(140, 140, 1)\n",
    "        image = image / 255.0\n",
    "        X_val_horses.append(image)\n",
    "        y_val_horses.append(7)\n",
    "    except Exception as e:\n",
    "        print(f\"Error with file {i}: {e}\")\n",
    "        continue\n",
    "\n",
    "X_val_horses = np.array(X_val_horses)\n",
    "y_val_horses = np.array(y_val_horses)\n",
    "print(X_val_horses.shape)\n",
    "print(y_val_horses.shape)"
   ]
  },
  {
   "cell_type": "code",
   "execution_count": 20,
   "id": "279bb2b5-6486-4dd8-8eec-1e17c408d428",
   "metadata": {},
   "outputs": [
    {
     "name": "stdout",
     "output_type": "stream",
     "text": [
      "(500, 140, 140, 1)\n",
      "(500,)\n"
     ]
    }
   ],
   "source": [
    "X_val_lions = []\n",
    "y_val_lions = []\n",
    "\n",
    "for i in os.listdir('guideline_code/guideline_code/datasets/Animals/lions/'):\n",
    "    try:\n",
    "        image = cv2.imread(f'guideline_code/guideline_code/datasets/Animals/lions/{i}', cv2.IMREAD_GRAYSCALE)\n",
    "        image = cv2.resize(image, (140, 140))\n",
    "        image = image.reshape(140, 140, 1)\n",
    "        image = image / 255.0\n",
    "        X_val_lions.append(image)\n",
    "        y_val_lions.append(8)\n",
    "    except Exception as e:\n",
    "        print(f\"Error with file {i}: {e}\")\n",
    "        continue\n",
    "\n",
    "X_val_lions = np.array(X_val_lions)\n",
    "y_val_lions = np.array(y_val_lions)\n",
    "print(X_val_lions.shape)\n",
    "print(y_val_lions.shape)"
   ]
  },
  {
   "cell_type": "code",
   "execution_count": 21,
   "id": "78b9e8a3-6650-40a8-a860-44cf0dbf6395",
   "metadata": {},
   "outputs": [
    {
     "name": "stdout",
     "output_type": "stream",
     "text": [
      "(500, 140, 140, 1)\n",
      "(500,)\n"
     ]
    }
   ],
   "source": [
    "X_val_spiders = []\n",
    "y_val_spiders = []\n",
    "\n",
    "for i in os.listdir('guideline_code/guideline_code/datasets/Animals/spiders/'):\n",
    "    try:\n",
    "        image = cv2.imread(f'guideline_code/guideline_code/datasets/Animals/spiders/{i}', cv2.IMREAD_GRAYSCALE)\n",
    "        image = cv2.resize(image, (140, 140))\n",
    "        image = image.reshape(140, 140, 1)\n",
    "        image = image / 255.0\n",
    "        X_val_spiders.append(image)\n",
    "        y_val_spiders.append(9)\n",
    "    except Exception as e:\n",
    "        print(f\"Error with file {i}: {e}\")\n",
    "        continue\n",
    "\n",
    "X_val_spiders = np.array(X_val_spiders)\n",
    "y_val_spiders = np.array(y_val_spiders)\n",
    "print(X_val_spiders.shape)\n",
    "print(y_val_spiders.shape)"
   ]
  },
  {
   "cell_type": "code",
   "execution_count": 22,
   "id": "7f97da35-a918-4b6f-a569-475609cafc9b",
   "metadata": {},
   "outputs": [
    {
     "name": "stdout",
     "output_type": "stream",
     "text": [
      "Test shape: (23098, 140, 140, 1)\n"
     ]
    }
   ],
   "source": [
    "X_test = []\n",
    "\n",
    "for i in os.listdir('test_dataset/official_test_aug/'):\n",
    "    try:\n",
    "        image = cv2.imread(f'test_dataset/official_test_aug/{i}', cv2.IMREAD_GRAYSCALE)\n",
    "        image = cv2.resize(image, (140, 140))\n",
    "        image = image.reshape(140, 140, 1)\n",
    "        image = image / 255.0\n",
    "        X_test.append(image)\n",
    "    except Exception as e:\n",
    "        print(f\"Error with file {i}: {e}\")\n",
    "\n",
    "X_test = np.array(X_test)\n",
    "\n",
    "print(\"Test shape:\", X_test.shape)"
   ]
  },
  {
   "cell_type": "code",
   "execution_count": 23,
   "id": "d8c20ec8-c1cc-4744-9d6d-e470553df109",
   "metadata": {},
   "outputs": [],
   "source": [
    "y_train = np.concatenate((y_train_butterfiles,y_train_cat,y_train_chickens,y_train_cows,y_train_elephants,y_train_dogs,y_train_fishes,y_train_horses,y_train_lions,y_train_spiders))"
   ]
  },
  {
   "cell_type": "code",
   "execution_count": 24,
   "id": "d4400e63-49ca-40d4-83fe-ecf932e113b4",
   "metadata": {},
   "outputs": [],
   "source": [
    "y_val = np.concatenate((y_val_butterfiles,y_val_cat,y_val_chickens,y_val_cows,y_val_elephants,y_val_dogs,y_val_fishes,y_val_horses,y_val_lions,y_val_spiders))"
   ]
  },
  {
   "cell_type": "code",
   "execution_count": 25,
   "id": "98353d95-11d2-4a84-8200-1cc88dd762f2",
   "metadata": {},
   "outputs": [],
   "source": [
    "X_train = np.concatenate((X_train_butterfiles,X_train_cat,X_train_chickens,X_train_cows,X_train_elephants,X_train_dogs,X_train_fishes,X_train_horses,X_train_lions,X_train_spiders))"
   ]
  },
  {
   "cell_type": "code",
   "execution_count": 26,
   "id": "02b02368-320d-45b8-86a3-544462060d78",
   "metadata": {},
   "outputs": [],
   "source": [
    "X_val = np.concatenate((X_val_butterfiles,X_val_cat,X_val_chickens,X_val_cows,X_val_elephants,X_val_dogs,X_val_fishes,X_val_horses,X_val_lions,X_val_spiders))"
   ]
  },
  {
   "cell_type": "code",
   "execution_count": 27,
   "id": "240c8d3a-8471-4f2a-a66a-42a92f7fc5cd",
   "metadata": {},
   "outputs": [
    {
     "data": {
      "text/plain": [
       "(5002, 140, 140, 1)"
      ]
     },
     "execution_count": 27,
     "metadata": {},
     "output_type": "execute_result"
    }
   ],
   "source": [
    "X_train.shape"
   ]
  },
  {
   "cell_type": "code",
   "execution_count": 28,
   "id": "7f63f33a-5de6-475b-bd7e-6c59f987f38c",
   "metadata": {},
   "outputs": [
    {
     "data": {
      "text/plain": [
       "(5002,)"
      ]
     },
     "execution_count": 28,
     "metadata": {},
     "output_type": "execute_result"
    }
   ],
   "source": [
    "y_train.shape"
   ]
  },
  {
   "cell_type": "code",
   "execution_count": 30,
   "id": "c0df73dc-f40c-43e2-b00b-7ce800ad85c2",
   "metadata": {},
   "outputs": [
    {
     "data": {
      "text/plain": [
       "(5002,)"
      ]
     },
     "execution_count": 30,
     "metadata": {},
     "output_type": "execute_result"
    }
   ],
   "source": [
    "y_val.shape"
   ]
  },
  {
   "cell_type": "code",
   "execution_count": 32,
   "id": "f7c341a5-e835-4d4c-8846-2464790023c9",
   "metadata": {},
   "outputs": [
    {
     "data": {
      "text/plain": [
       "(5002, 140, 140, 1)"
      ]
     },
     "execution_count": 32,
     "metadata": {},
     "output_type": "execute_result"
    }
   ],
   "source": [
    "X_val.shape"
   ]
  },
  {
   "cell_type": "code",
   "execution_count": 33,
   "id": "a1f469e7-392e-45c1-9f1f-65c2cde7fed8",
   "metadata": {},
   "outputs": [],
   "source": [
    "from keras.utils import to_categorical"
   ]
  },
  {
   "cell_type": "code",
   "execution_count": 34,
   "id": "75988fb9-cfce-4f42-b163-71b556951aba",
   "metadata": {},
   "outputs": [],
   "source": [
    "y_train = to_categorical(y_train,num_classes=10)\n",
    "y_val = to_categorical(y_val,num_classes=10)"
   ]
  },
  {
   "cell_type": "code",
   "execution_count": 35,
   "id": "b92f37c3-5489-40ef-8e4b-bb8adacd1396",
   "metadata": {},
   "outputs": [],
   "source": [
    "from keras import Sequential\n",
    "from keras.layers import Conv2D, MaxPooling2D, Flatten, Dense, Dropout"
   ]
  },
  {
   "cell_type": "code",
   "execution_count": 36,
   "id": "5bc0132a-7b79-49e9-8e22-ec7fff477434",
   "metadata": {},
   "outputs": [
    {
     "name": "stderr",
     "output_type": "stream",
     "text": [
      "C:\\Users\\Boris\\AppData\\Local\\Programs\\Python\\Python310\\lib\\site-packages\\keras\\src\\layers\\convolutional\\base_conv.py:107: UserWarning: Do not pass an `input_shape`/`input_dim` argument to a layer. When using Sequential models, prefer using an `Input(shape)` object as the first layer in the model instead.\n",
      "  super().__init__(activity_regularizer=activity_regularizer, **kwargs)\n"
     ]
    }
   ],
   "source": [
    "model = Sequential()\n",
    "\n",
    "model.add(Conv2D(filters=128, kernel_size=(3, 3), padding='same', activation='relu', input_shape=(140, 140, 1)))\n",
    "model.add(MaxPooling2D(pool_size=(2, 2)))\n",
    "\n",
    "model.add(Conv2D(filters=64, kernel_size=(3, 3), padding='same', activation='relu'))\n",
    "model.add(MaxPooling2D(pool_size=(2, 2)))\n",
    "\n",
    "model.add(Flatten())\n",
    "\n",
    "\n",
    "model.add(Dense(64, activation='relu'))\n",
    "model.add(Dense(32, activation='relu'))\n",
    "model.add(Dense(16, activation='relu'))\n",
    "model.add(Dense(10, activation='softmax'))"
   ]
  },
  {
   "cell_type": "code",
   "execution_count": 37,
   "id": "c1abe0f4-1f98-4cc7-a898-38201f8c003c",
   "metadata": {},
   "outputs": [],
   "source": [
    "model.compile(optimizer='adam', loss='categorical_crossentropy', metrics=['accuracy'])"
   ]
  },
  {
   "cell_type": "code",
   "execution_count": 38,
   "id": "5f97632d-9814-4561-a664-01591cec8d9a",
   "metadata": {},
   "outputs": [
    {
     "name": "stdout",
     "output_type": "stream",
     "text": [
      "Epoch 1/10\n",
      "\u001b[1m157/157\u001b[0m \u001b[32m━━━━━━━━━━━━━━━━━━━━\u001b[0m\u001b[37m\u001b[0m \u001b[1m59s\u001b[0m 369ms/step - accuracy: 0.1344 - loss: 2.2847 - val_accuracy: 0.3193 - val_loss: 1.8286\n",
      "Epoch 2/10\n",
      "\u001b[1m157/157\u001b[0m \u001b[32m━━━━━━━━━━━━━━━━━━━━\u001b[0m\u001b[37m\u001b[0m \u001b[1m59s\u001b[0m 377ms/step - accuracy: 0.3644 - loss: 1.7051 - val_accuracy: 0.4480 - val_loss: 1.4491\n",
      "Epoch 3/10\n",
      "\u001b[1m157/157\u001b[0m \u001b[32m━━━━━━━━━━━━━━━━━━━━\u001b[0m\u001b[37m\u001b[0m \u001b[1m60s\u001b[0m 382ms/step - accuracy: 0.4857 - loss: 1.3391 - val_accuracy: 0.5648 - val_loss: 1.0935\n",
      "Epoch 4/10\n",
      "\u001b[1m157/157\u001b[0m \u001b[32m━━━━━━━━━━━━━━━━━━━━\u001b[0m\u001b[37m\u001b[0m \u001b[1m60s\u001b[0m 383ms/step - accuracy: 0.5856 - loss: 1.0838 - val_accuracy: 0.6335 - val_loss: 0.9675\n",
      "Epoch 5/10\n",
      "\u001b[1m157/157\u001b[0m \u001b[32m━━━━━━━━━━━━━━━━━━━━\u001b[0m\u001b[37m\u001b[0m \u001b[1m60s\u001b[0m 382ms/step - accuracy: 0.6788 - loss: 0.8634 - val_accuracy: 0.6667 - val_loss: 0.8787\n",
      "Epoch 6/10\n",
      "\u001b[1m157/157\u001b[0m \u001b[32m━━━━━━━━━━━━━━━━━━━━\u001b[0m\u001b[37m\u001b[0m \u001b[1m60s\u001b[0m 383ms/step - accuracy: 0.7692 - loss: 0.6209 - val_accuracy: 0.8752 - val_loss: 0.4162\n",
      "Epoch 7/10\n",
      "\u001b[1m157/157\u001b[0m \u001b[32m━━━━━━━━━━━━━━━━━━━━\u001b[0m\u001b[37m\u001b[0m \u001b[1m60s\u001b[0m 382ms/step - accuracy: 0.8646 - loss: 0.4045 - val_accuracy: 0.8802 - val_loss: 0.3516\n",
      "Epoch 8/10\n",
      "\u001b[1m157/157\u001b[0m \u001b[32m━━━━━━━━━━━━━━━━━━━━\u001b[0m\u001b[37m\u001b[0m \u001b[1m61s\u001b[0m 386ms/step - accuracy: 0.9059 - loss: 0.2887 - val_accuracy: 0.9508 - val_loss: 0.1710\n",
      "Epoch 9/10\n",
      "\u001b[1m157/157\u001b[0m \u001b[32m━━━━━━━━━━━━━━━━━━━━\u001b[0m\u001b[37m\u001b[0m \u001b[1m60s\u001b[0m 383ms/step - accuracy: 0.9556 - loss: 0.1489 - val_accuracy: 0.9628 - val_loss: 0.1257\n",
      "Epoch 10/10\n",
      "\u001b[1m157/157\u001b[0m \u001b[32m━━━━━━━━━━━━━━━━━━━━\u001b[0m\u001b[37m\u001b[0m \u001b[1m61s\u001b[0m 390ms/step - accuracy: 0.9776 - loss: 0.0863 - val_accuracy: 0.9688 - val_loss: 0.0935\n"
     ]
    },
    {
     "data": {
      "text/plain": [
       "<keras.src.callbacks.history.History at 0x23e4722ca30>"
      ]
     },
     "execution_count": 38,
     "metadata": {},
     "output_type": "execute_result"
    }
   ],
   "source": [
    "model.fit(X_train, y_train, validation_data=(X_val, y_val), epochs=10)"
   ]
  },
  {
   "cell_type": "code",
   "execution_count": 39,
   "id": "cfd2e7f8-9c46-4eb3-a42a-f59548fd0bf4",
   "metadata": {},
   "outputs": [
    {
     "data": {
      "text/plain": [
       "[<matplotlib.lines.Line2D at 0x23e4a183310>]"
      ]
     },
     "execution_count": 39,
     "metadata": {},
     "output_type": "execute_result"
    },
    {
     "data": {
      "image/png": "[encoded data removed]",
      "text/plain": [
       "<Figure size 640x480 with 1 Axes>"
      ]
     },
     "metadata": {},
     "output_type": "display_data"
    }
   ],
   "source": [
    "plt.plot(model.history.history['loss'])\n",
    "plt.plot(model.history.history['val_loss'])"
   ]
  },
  {
   "cell_type": "code",
   "execution_count": 55,
   "id": "45f94e56-a07a-48af-862b-c664cff3df3c",
   "metadata": {},
   "outputs": [
    {
     "name": "stdout",
     "output_type": "stream",
     "text": [
      "\u001b[1m722/722\u001b[0m \u001b[32m━━━━━━━━━━━━━━━━━━━━\u001b[0m\u001b[37m\u001b[0m \u001b[1m67s\u001b[0m 93ms/step\n"
     ]
    }
   ],
   "source": [
    "y_pred = model.predict(X_test)"
   ]
  },
  {
   "cell_type": "code",
   "execution_count": 56,
   "id": "01874748-e540-47c6-9593-be38d4f302eb",
   "metadata": {},
   "outputs": [],
   "source": [
    "y_pred = np.argmax(y_pred, axis=1)"
   ]
  },
  {
   "cell_type": "code",
   "execution_count": 57,
   "id": "9c61c864-7730-4e65-9db7-804422bb1c50",
   "metadata": {},
   "outputs": [
    {
     "name": "stdout",
     "output_type": "stream",
     "text": [
      "(23098,)\n"
     ]
    }
   ],
   "source": [
    "print(y_pred.shape)"
   ]
  },
  {
   "cell_type": "code",
   "execution_count": 58,
   "id": "679017a2-8c26-45c5-a060-7a511a71e260",
   "metadata": {},
   "outputs": [],
   "source": [
    "sub = pd.read_csv('my_solution.csv')"
   ]
  },
  {
   "cell_type": "code",
   "execution_count": 59,
   "id": "c9103bec-2a46-4f89-b372-7494c65fde51",
   "metadata": {},
   "outputs": [],
   "source": [
    "sub['Label'] = y_pred"
   ]
  },
  {
   "cell_type": "code",
   "execution_count": 60,
   "id": "4b115464-4ff7-4bb6-a610-b1d2574960ba",
   "metadata": {},
   "outputs": [],
   "source": [
    "sub.to_csv('sub.csv',index=False)"
   ]
  },
  {
   "cell_type": "code",
   "execution_count": null,
   "id": "41852000-a88c-48c0-a80a-5f00776b0ab4",
   "metadata": {},
   "outputs": [],
   "source": []
  }
 ],
 "metadata": {
  "kernelspec": {
   "display_name": "Python 3 (ipykernel)",
   "language": "python",
   "name": "python3"
  },
  "language_info": {
   "codemirror_mode": {
    "name": "ipython",
    "version": 3
   },
   "file_extension": ".py",
   "mimetype": "text/x-python",
   "name": "python",
   "nbconvert_exporter": "python",
   "pygments_lexer": "ipython3",
   "version": "3.10.3"
  }
 },
 "nbformat": 4,
 "nbformat_minor": 5
}
